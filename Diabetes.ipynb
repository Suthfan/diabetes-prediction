{
  "nbformat": 4,
  "nbformat_minor": 0,
  "metadata": {
    "colab": {
      "provenance": []
    },
    "kernelspec": {
      "name": "python3",
      "display_name": "Python 3"
    },
    "language_info": {
      "name": "python"
    }
  },
  "cells": [
    {
      "cell_type": "markdown",
      "source": [
        "Dataset loading"
      ],
      "metadata": {
        "id": "GM7cj9LAfQj0"
      }
    },
    {
      "cell_type": "code",
      "execution_count": 42,
      "metadata": {
        "colab": {
          "base_uri": "https://localhost:8080/"
        },
        "id": "XQTn1SnJY6e2",
        "outputId": "5efb80e0-bf6a-4387-e0ee-98b3019a5776"
      },
      "outputs": [
        {
          "output_type": "stream",
          "name": "stdout",
          "text": [
            "\n",
            "Shape: (2000, 9)\n",
            "   gender   age  hypertension  heart_disease smoking_history    bmi  \\\n",
            "0  Female  0.08           0.0            0.0         No Info  14.43   \n",
            "1  Female  0.16           0.0            0.0         No Info  12.15   \n",
            "2    Male  0.16           0.0            0.0         No Info  14.35   \n",
            "3    Male  0.16           0.0            0.0         No Info  11.16   \n",
            "4  Female  0.56           0.0            0.0         No Info  16.85   \n",
            "\n",
            "   HbA1c_level  blood_glucose_level  diabetes  \n",
            "0          6.5                160.0         0  \n",
            "1          6.6                100.0         0  \n",
            "2          6.5                126.0         0  \n",
            "3          5.8                 85.0         0  \n",
            "4          5.0                140.0         0  \n"
          ]
        }
      ],
      "source": [
        "import pandas as pd\n",
        "url = 'https://raw.githubusercontent.com/Suthfan/diabetes-prediction/refs/heads/main/diabetes_prediction_dataset.csv'\n",
        "df = pd.read_csv(url)\n",
        "print(\"\\nShape:\", df.shape)\n",
        "print(df.head())"
      ]
    },
    {
      "cell_type": "markdown",
      "source": [
        "Handaling missing values"
      ],
      "metadata": {
        "id": "SffSUj0FfUSx"
      }
    },
    {
      "cell_type": "code",
      "source": [
        "print(\"\\nMissing values:\\n\", df.isna().sum())\n",
        "df['gender'] = df['gender'].fillna(df['gender'].mode()[0]) # most frequent gender to na values\n",
        "df['bmi'] = df['bmi'].fillna(df['bmi'].median()) # median of BMI to na values\n",
        "df['smoking_history'] = df['smoking_history'].fillna('No Info') # No Info to na values\n",
        "df.dropna(inplace=True)\n",
        "df.drop_duplicates(inplace=True) # Removing dupli"
      ],
      "metadata": {
        "colab": {
          "base_uri": "https://localhost:8080/"
        },
        "id": "cTomONNFelS7",
        "outputId": "c82675be-a4e0-4b2c-8d8f-830113ae520e"
      },
      "execution_count": 43,
      "outputs": [
        {
          "output_type": "stream",
          "name": "stdout",
          "text": [
            "\n",
            "Missing values:\n",
            " gender                 1\n",
            "age                    1\n",
            "hypertension           1\n",
            "heart_disease          1\n",
            "smoking_history        3\n",
            "bmi                    4\n",
            "HbA1c_level            1\n",
            "blood_glucose_level    1\n",
            "diabetes               0\n",
            "dtype: int64\n"
          ]
        }
      ]
    },
    {
      "cell_type": "markdown",
      "source": [
        "Managing category and numeric values"
      ],
      "metadata": {
        "id": "eqKvXv_6fXSP"
      }
    },
    {
      "cell_type": "code",
      "source": [
        "categorical_columns = ['gender', 'smoking_history', 'diabetes']\n",
        "for col in categorical_columns:\n",
        "    if col in df.columns:\n",
        "        df[col] = df[col].astype('category')\n",
        "\n",
        "numeric_columns = ['age', 'bmi', 'HbA1c_level', 'blood_glucose_level']\n",
        "for col in numeric_columns:\n",
        "    if col in df.columns:\n",
        "        df[col] = pd.to_numeric(df[col], errors='coerce')\n",
        "\n",
        "df = df[(df['age'] >= 1) & (df['bmi'] > 0) & (df['blood_glucose_level'] > 0)]\n",
        "df.reset_index(drop=True, inplace=True)\n",
        "print(\"\\nShape:\", df.shape)\n",
        "print(\"Data Types\\n\",df.dtypes)"
      ],
      "metadata": {
        "colab": {
          "base_uri": "https://localhost:8080/"
        },
        "id": "10tUk08CeoRu",
        "outputId": "c044bc38-d729-410a-9db2-91497d269905"
      },
      "execution_count": 44,
      "outputs": [
        {
          "output_type": "stream",
          "name": "stdout",
          "text": [
            "\n",
            "Shape: (1984, 9)\n",
            "Data Types\n",
            " gender                 category\n",
            "age                     float64\n",
            "hypertension            float64\n",
            "heart_disease           float64\n",
            "smoking_history        category\n",
            "bmi                     float64\n",
            "HbA1c_level             float64\n",
            "blood_glucose_level     float64\n",
            "diabetes               category\n",
            "dtype: object\n"
          ]
        }
      ]
    }
  ]
}